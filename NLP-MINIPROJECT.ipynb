{
 "cells": [
  {
   "cell_type": "code",
   "execution_count": 1,
   "metadata": {
    "_cell_guid": "b1076dfc-b9ad-4769-8c92-a6c4dae69d19",
    "_uuid": "8f2839f25d086af736a60e9eeb907d3b93b6e0e5"
   },
   "outputs": [],
   "source": [
    "\n",
    "import pandas as pd\n",
    "import numpy as np\n",
    "import json\n",
    "import nltk\n",
    "import re\n",
    "import csv\n",
    "import matplotlib.pyplot as plt \n",
    "import seaborn as sns\n",
    "from tqdm import tqdm\n",
    "from sklearn.feature_extraction.text import TfidfVectorizer\n",
    "from sklearn.model_selection import train_test_split\n",
    "\n",
    "%matplotlib inline\n"
   ]
  },
  {
   "cell_type": "code",
   "execution_count": 2,
   "metadata": {},
   "outputs": [],
   "source": [
    "from bs4 import BeautifulSoup"
   ]
  },
  {
   "cell_type": "code",
   "execution_count": 3,
   "metadata": {
    "_cell_guid": "79c7e3d0-c299-4dcb-8224-4455121ee9b0",
    "_uuid": "d629ff2d2480ee46fbb7e2d37f6b5fab8052498a"
   },
   "outputs": [
    {
     "data": {
      "text/html": [
       "<div>\n",
       "<style scoped>\n",
       "    .dataframe tbody tr th:only-of-type {\n",
       "        vertical-align: middle;\n",
       "    }\n",
       "\n",
       "    .dataframe tbody tr th {\n",
       "        vertical-align: top;\n",
       "    }\n",
       "\n",
       "    .dataframe thead th {\n",
       "        text-align: right;\n",
       "    }\n",
       "</style>\n",
       "<table border=\"1\" class=\"dataframe\">\n",
       "  <thead>\n",
       "    <tr style=\"text-align: right;\">\n",
       "      <th></th>\n",
       "      <th>imdb_id</th>\n",
       "      <th>title</th>\n",
       "      <th>plot_synopsis</th>\n",
       "      <th>tags</th>\n",
       "      <th>split</th>\n",
       "      <th>synopsis_source</th>\n",
       "    </tr>\n",
       "  </thead>\n",
       "  <tbody>\n",
       "    <tr>\n",
       "      <th>0</th>\n",
       "      <td>tt0057603</td>\n",
       "      <td>I tre volti della paura</td>\n",
       "      <td>Note: this synopsis is for the orginal Italian...</td>\n",
       "      <td>cult, horror, gothic, murder, atmospheric</td>\n",
       "      <td>train</td>\n",
       "      <td>imdb</td>\n",
       "    </tr>\n",
       "    <tr>\n",
       "      <th>1</th>\n",
       "      <td>tt1733125</td>\n",
       "      <td>Dungeons &amp; Dragons: The Book of Vile Darkness</td>\n",
       "      <td>Two thousand years ago, Nhagruul the Foul, a s...</td>\n",
       "      <td>violence</td>\n",
       "      <td>train</td>\n",
       "      <td>imdb</td>\n",
       "    </tr>\n",
       "    <tr>\n",
       "      <th>2</th>\n",
       "      <td>tt0033045</td>\n",
       "      <td>The Shop Around the Corner</td>\n",
       "      <td>Matuschek's, a gift store in Budapest, is the ...</td>\n",
       "      <td>romantic</td>\n",
       "      <td>test</td>\n",
       "      <td>imdb</td>\n",
       "    </tr>\n",
       "    <tr>\n",
       "      <th>3</th>\n",
       "      <td>tt0113862</td>\n",
       "      <td>Mr. Holland's Opus</td>\n",
       "      <td>Glenn Holland, not a morning person by anyone'...</td>\n",
       "      <td>inspiring, romantic, stupid, feel-good</td>\n",
       "      <td>train</td>\n",
       "      <td>imdb</td>\n",
       "    </tr>\n",
       "    <tr>\n",
       "      <th>4</th>\n",
       "      <td>tt0086250</td>\n",
       "      <td>Scarface</td>\n",
       "      <td>In May 1980, a Cuban man named Tony Montana (A...</td>\n",
       "      <td>cruelty, murder, dramatic, cult, violence, atm...</td>\n",
       "      <td>val</td>\n",
       "      <td>imdb</td>\n",
       "    </tr>\n",
       "  </tbody>\n",
       "</table>\n",
       "</div>"
      ],
      "text/plain": [
       "     imdb_id                                          title  \\\n",
       "0  tt0057603                        I tre volti della paura   \n",
       "1  tt1733125  Dungeons & Dragons: The Book of Vile Darkness   \n",
       "2  tt0033045                     The Shop Around the Corner   \n",
       "3  tt0113862                             Mr. Holland's Opus   \n",
       "4  tt0086250                                       Scarface   \n",
       "\n",
       "                                       plot_synopsis  \\\n",
       "0  Note: this synopsis is for the orginal Italian...   \n",
       "1  Two thousand years ago, Nhagruul the Foul, a s...   \n",
       "2  Matuschek's, a gift store in Budapest, is the ...   \n",
       "3  Glenn Holland, not a morning person by anyone'...   \n",
       "4  In May 1980, a Cuban man named Tony Montana (A...   \n",
       "\n",
       "                                                tags  split synopsis_source  \n",
       "0          cult, horror, gothic, murder, atmospheric  train            imdb  \n",
       "1                                           violence  train            imdb  \n",
       "2                                           romantic   test            imdb  \n",
       "3             inspiring, romantic, stupid, feel-good  train            imdb  \n",
       "4  cruelty, murder, dramatic, cult, violence, atm...    val            imdb  "
      ]
     },
     "execution_count": 3,
     "metadata": {},
     "output_type": "execute_result"
    }
   ],
   "source": [
    "df = pd.read_csv('C:/Users/ACER/Downloads/movie/mpst_full_data.csv', delimiter=',')\n",
    "nRow, nCol = df.shape\n",
    "df.head(5)"
   ]
  },
  {
   "cell_type": "code",
   "execution_count": 4,
   "metadata": {},
   "outputs": [
    {
     "data": {
      "text/plain": [
       "array(['cult, horror, gothic, murder, atmospheric', 'violence',\n",
       "       'romantic', ..., 'violence, romantic, historical fiction',\n",
       "       'suspenseful, neo noir, violence, tragedy, revenge, sentimental',\n",
       "       'neo noir, realism, murder, violence, atmospheric, suspenseful'],\n",
       "      dtype=object)"
      ]
     },
     "execution_count": 4,
     "metadata": {},
     "output_type": "execute_result"
    }
   ],
   "source": [
    "df['tags'].unique()"
   ]
  },
  {
   "cell_type": "code",
   "execution_count": 5,
   "metadata": {},
   "outputs": [],
   "source": [
    "import re\n",
    "\n",
    "def decontracted(phrase):\n",
    "    phrase = re.sub(r\"won't\", \"will not\", phrase)\n",
    "    phrase = re.sub(r\"can\\'t\", \"can not\", phrase)\n",
    "    phrase = re.sub(r\"n\\'t\", \" not\", phrase)\n",
    "    phrase = re.sub(r\"\\'re\", \" are\", phrase)\n",
    "    phrase = re.sub(r\"\\'s\", \" is\", phrase)\n",
    "    phrase = re.sub(r\"\\'d\", \" would\", phrase)\n",
    "    phrase = re.sub(r\"\\'ll\", \" will\", phrase)\n",
    "    phrase = re.sub(r\"\\'t\", \" not\", phrase)\n",
    "    phrase = re.sub(r\"\\'ve\", \" have\", phrase)\n",
    "    phrase = re.sub(r\"\\'m\", \" am\", phrase)\n",
    "    return phrase"
   ]
  },
  {
   "cell_type": "code",
   "execution_count": 6,
   "metadata": {},
   "outputs": [],
   "source": [
    "import string\n",
    "def clean_text(text):\n",
    "    text=re.sub(r'[^\\w\\s]','',text) \n",
    "    text = re.sub(\"[^a-zA-Z]\",\" \",text) \n",
    "    text = BeautifulSoup(text, 'lxml').get_text()\n",
    "    text = decontracted(text)\n",
    "    text = ' '.join(text.split()) \n",
    "    text = re.sub(r'\\d+', '', text)\n",
    "    text=\" \".join(text.split())\n",
    "    text = text.lower() \n",
    "    \n",
    "    return text"
   ]
  },
  {
   "cell_type": "code",
   "execution_count": 7,
   "metadata": {},
   "outputs": [
    {
     "name": "stdout",
     "output_type": "stream",
     "text": [
      "         imdb_id                                          title  \\\n",
      "0      tt0057603                        I tre volti della paura   \n",
      "1      tt1733125  Dungeons & Dragons: The Book of Vile Darkness   \n",
      "2      tt0033045                     The Shop Around the Corner   \n",
      "3      tt0113862                             Mr. Holland's Opus   \n",
      "4      tt0086250                                       Scarface   \n",
      "...          ...                                            ...   \n",
      "14823  tt0219952                                  Lucky Numbers   \n",
      "14824  tt1371159                                     Iron Man 2   \n",
      "14825  tt0063443                                     Play Dirty   \n",
      "14826  tt0039464                                      High Wall   \n",
      "14827  tt0235166                               Against All Hope   \n",
      "\n",
      "                                           plot_synopsis  \\\n",
      "0      Note: this synopsis is for the orginal Italian...   \n",
      "1      Two thousand years ago, Nhagruul the Foul, a s...   \n",
      "2      Matuschek's, a gift store in Budapest, is the ...   \n",
      "3      Glenn Holland, not a morning person by anyone'...   \n",
      "4      In May 1980, a Cuban man named Tony Montana (A...   \n",
      "...                                                  ...   \n",
      "14823  In 1988 Russ Richards (John Travolta), the wea...   \n",
      "14824  In Russia, the media covers Tony Stark's discl...   \n",
      "14825  During the North African Campaign in World War...   \n",
      "14826  Steven Kenet catches his unfaithful wife in th...   \n",
      "14827  Sometime in the 1950s in Chicago a man, Cecil ...   \n",
      "\n",
      "                                                    tags  split  \\\n",
      "0              cult, horror, gothic, murder, atmospheric  train   \n",
      "1                                               violence  train   \n",
      "2                                               romantic   test   \n",
      "3                 inspiring, romantic, stupid, feel-good  train   \n",
      "4      cruelty, murder, dramatic, cult, violence, atm...    val   \n",
      "...                                                  ...    ...   \n",
      "14823                                     comedy, murder   test   \n",
      "14824                         good versus evil, violence  train   \n",
      "14825                                           anti war  train   \n",
      "14826                                             murder   test   \n",
      "14827                                     christian film   test   \n",
      "\n",
      "      synopsis_source                                clean_plot_synopsis  \n",
      "0                imdb  note this synopsis is for the orginal italian ...  \n",
      "1                imdb  two thousand years ago nhagruul the foul a sor...  \n",
      "2                imdb  matuscheks a gift store in budapest is the wor...  \n",
      "3                imdb  glenn holland not a morning person by anyones ...  \n",
      "4                imdb  in may a cuban man named tony montana al pacin...  \n",
      "...               ...                                                ...  \n",
      "14823       wikipedia  in russ richards john travolta the weatherman ...  \n",
      "14824       wikipedia  in russia the media covers tony starks disclos...  \n",
      "14825       wikipedia  during the north african campaign in world war...  \n",
      "14826       wikipedia  steven kenet catches his unfaithful wife in th...  \n",
      "14827       wikipedia  sometime in the s in chicago a man cecil moe m...  \n",
      "\n",
      "[14828 rows x 7 columns]\n",
      "0                    cult,horror,gothic,murder,atmospheric\n",
      "1                                                 violence\n",
      "2                                                 romantic\n",
      "3                      inspiring,romantic,stupid,feel-good\n",
      "4        cruelty,murder,dramatic,cult,violence,atmosphe...\n",
      "                               ...                        \n",
      "14823                                        comedy,murder\n",
      "14824                            good versus evil,violence\n",
      "14825                                             anti war\n",
      "14826                                               murder\n",
      "14827                                       christian film\n",
      "Name: tags, Length: 14828, dtype: object\n"
     ]
    }
   ],
   "source": [
    "df['clean_plot_synopsis'] = df['plot_synopsis'].apply(lambda x: clean_text(x))\n",
    "print(df)\n",
    "def remove_spaces(x):\n",
    "    x=x.split(\",\")\n",
    "    nospace=[]\n",
    "    for item in x:\n",
    "        item=item.lstrip()\n",
    "        nospace.append(item)\n",
    "    return (\",\").join(nospace)\n",
    "\n",
    "df['tags']=df['tags'].apply(remove_spaces)\n",
    "print(df['tags'])"
   ]
  },
  {
   "cell_type": "code",
   "execution_count": 8,
   "metadata": {},
   "outputs": [
    {
     "name": "stderr",
     "output_type": "stream",
     "text": [
      "[nltk_data] Downloading package stopwords to\n",
      "[nltk_data]     C:\\Users\\ACER\\AppData\\Roaming\\nltk_data...\n",
      "[nltk_data]   Package stopwords is already up-to-date!\n"
     ]
    },
    {
     "data": {
      "text/plain": [
       "True"
      ]
     },
     "execution_count": 8,
     "metadata": {},
     "output_type": "execute_result"
    }
   ],
   "source": [
    "nltk.download('stopwords')"
   ]
  },
  {
   "cell_type": "code",
   "execution_count": 9,
   "metadata": {},
   "outputs": [],
   "source": [
    "from nltk.corpus import stopwords\n",
    "stop_words = set(stopwords.words('english'))\n",
    "\n",
    "\n",
    "def remove_stopwords(text):\n",
    "    no_stopword_text = [w for w in text.split() if not w in stop_words]\n",
    "    return ' '.join(no_stopword_text)\n",
    "\n",
    "df['clean_plot_synopsis'] = df['clean_plot_synopsis'].apply(lambda x: remove_stopwords(x))"
   ]
  },
  {
   "cell_type": "code",
   "execution_count": 10,
   "metadata": {},
   "outputs": [
    {
     "name": "stdout",
     "output_type": "stream",
     "text": [
      "[[0 0 0 ... 0 0 0]\n",
      " [0 0 0 ... 1 0 0]\n",
      " [0 0 0 ... 0 0 0]\n",
      " ...\n",
      " [0 0 0 ... 1 0 0]\n",
      " [0 0 0 ... 1 0 0]\n",
      " [0 0 0 ... 0 0 0]]\n"
     ]
    }
   ],
   "source": [
    "from sklearn.feature_extraction.text import CountVectorizer\n",
    "train=df.loc[df.split=='train']\n",
    "train=train.reset_index()\n",
    "test=df.loc[df.split=='test']\n",
    "test=test.reset_index()\n",
    "val=df.loc[df.split==\"val\"]\n",
    "val=val.reset_index()\n",
    "vectorizer = CountVectorizer(tokenizer = lambda x: x.split(\",\"), binary='true')\n",
    "y_train = vectorizer.fit_transform(train['tags']).toarray()\n",
    "y_test = vectorizer.transform(test['tags']).toarray()\n",
    "y_val = vectorizer.transform(val['tags']).toarray()\n",
    "\n",
    "print(y_train)"
   ]
  },
  {
   "cell_type": "code",
   "execution_count": 11,
   "metadata": {},
   "outputs": [
    {
     "data": {
      "text/plain": [
       "[array(['atmospheric', 'cult', 'gothic', 'horror', 'murder'], dtype='<U18')]"
      ]
     },
     "execution_count": 11,
     "metadata": {},
     "output_type": "execute_result"
    }
   ],
   "source": [
    "vectorizer.inverse_transform(y_train[0])"
   ]
  },
  {
   "cell_type": "code",
   "execution_count": 12,
   "metadata": {},
   "outputs": [
    {
     "data": {
      "text/plain": [
       "11406"
      ]
     },
     "execution_count": 12,
     "metadata": {},
     "output_type": "execute_result"
    }
   ],
   "source": [
    "def max_len(x):\n",
    "    a=x.split()\n",
    "    return len(a)\n",
    "\n",
    "max(df['plot_synopsis'].apply(max_len))"
   ]
  },
  {
   "cell_type": "code",
   "execution_count": 13,
   "metadata": {},
   "outputs": [],
   "source": [
    "import tensorflow as tf\n",
    "from tensorflow.keras.preprocessing.text import Tokenizer\n",
    "from keras.preprocessing.sequence import pad_sequences\n",
    "from tensorflow import keras\n",
    "from tensorflow.keras import layers"
   ]
  },
  {
   "cell_type": "code",
   "execution_count": 14,
   "metadata": {},
   "outputs": [
    {
     "name": "stdout",
     "output_type": "stream",
     "text": [
      "122195\n"
     ]
    }
   ],
   "source": [
    "vect=Tokenizer()\n",
    "vect.fit_on_texts(train['plot_synopsis'])\n",
    "vocab_size = len(vect.word_index) + 1\n",
    "print(vocab_size)"
   ]
  },
  {
   "cell_type": "code",
   "execution_count": 16,
   "metadata": {},
   "outputs": [
    {
     "name": "stdout",
     "output_type": "stream",
     "text": [
      "[[  779  4660 62208 ...     0     0     0]\n",
      " [   51  4481   143 ...     0     0     0]\n",
      " [ 3793  8403   256 ...     0     0     0]\n",
      " ...\n",
      " [  140  2717   539 ...     0     0     0]\n",
      " [ 5118  2731  3015 ...     0     0     0]\n",
      " [ 1269  2392  2530 ...     0     0     0]]\n"
     ]
    }
   ],
   "source": [
    "xtrain1 = vect.texts_to_sequences(train['clean_plot_synopsis'])\n",
    "max_length = vocab_size\n",
    "xtrain = pad_sequences(xtrain1, maxlen=1200, padding='post')\n",
    "print(xtrain)"
   ]
  },
  {
   "cell_type": "code",
   "execution_count": 17,
   "metadata": {},
   "outputs": [
    {
     "name": "stdout",
     "output_type": "stream",
     "text": [
      "157464\n",
      "[[131362   1637    551 ...      0      0      0]\n",
      " [  4870   2606    496 ...   1189   2133    295]\n",
      " [  6936   8446    181 ...      0      0      0]\n",
      " ...\n",
      " [  7140   3816    130 ...      0      0      0]\n",
      " [  1910  37006    747 ...      0      0      0]\n",
      " [  3739   1943     48 ...      0      0      0]]\n",
      "182168\n",
      "[[  5338   3627  17889 ...   6830     49    212]\n",
      " [   364  32781   3281 ...      0      0      0]\n",
      " [  3437     91    312 ...    669    600  10909]\n",
      " ...\n",
      " [    41     73   2372 ...      0      0      0]\n",
      " [182149    231   3663 ...      0      0      0]\n",
      " [  3366   2184    357 ...      0      0      0]]\n"
     ]
    }
   ],
   "source": [
    "vect.fit_on_texts(test['clean_plot_synopsis'])\n",
    "vocab_size = len(vect.word_index) + 1\n",
    "print(vocab_size)\n",
    "xtest1 = vect.texts_to_sequences(test['clean_plot_synopsis'])\n",
    "max_length = vocab_size\n",
    "xtest = pad_sequences(xtest1, maxlen=1200, padding='post')\n",
    "print(xtest)\n",
    "vect.fit_on_texts(val['clean_plot_synopsis'])\n",
    "vocab_size = len(vect.word_index) + 1\n",
    "print(vocab_size)\n",
    "xval1 = vect.texts_to_sequences(val['clean_plot_synopsis'])\n",
    "max_length = vocab_size\n",
    "xval = pad_sequences(xval1, maxlen=1200, padding='post')\n",
    "print(xval)"
   ]
  },
  {
   "cell_type": "code",
   "execution_count": 15,
   "metadata": {},
   "outputs": [
    {
     "name": "stdout",
     "output_type": "stream",
     "text": [
      "Model: \"sequential\"\n",
      "_________________________________________________________________\n",
      "Layer (type)                 Output Shape              Param #   \n",
      "=================================================================\n",
      "embedding (Embedding)        (None, 1200, 50)          6109750   \n",
      "_________________________________________________________________\n",
      "lstm (LSTM)                  (None, 1200, 128)         91648     \n",
      "_________________________________________________________________\n",
      "dropout (Dropout)            (None, 1200, 128)         0         \n",
      "_________________________________________________________________\n",
      "lstm_1 (LSTM)                (None, 64)                49408     \n",
      "_________________________________________________________________\n",
      "dropout_1 (Dropout)          (None, 64)                0         \n",
      "_________________________________________________________________\n",
      "dense (Dense)                (None, 71)                4615      \n",
      "=================================================================\n",
      "Total params: 6,255,421\n",
      "Trainable params: 6,255,421\n",
      "Non-trainable params: 0\n",
      "_________________________________________________________________\n"
     ]
    }
   ],
   "source": [
    "model = keras.Sequential()\n",
    "model.add(layers.Embedding(vocab_size, output_dim=50, input_length=1200))\n",
    "model.add(layers.LSTM(128, return_sequences=True))  \n",
    "model.add(layers.Dropout(0.5))\n",
    "model.add(layers.LSTM(64))\n",
    "model.add(layers.Dropout(0.5))\n",
    "model.add(layers.Dense(71, activation='sigmoid'))\n",
    "\n",
    "\n",
    "model.summary()"
   ]
  },
  {
   "cell_type": "code",
   "execution_count": 16,
   "metadata": {},
   "outputs": [],
   "source": [
    "METRICS = [\n",
    "      keras.metrics.TruePositives(name='tp'),\n",
    "      keras.metrics.FalsePositives(name='fp'),\n",
    "      keras.metrics.TrueNegatives(name='tn'),\n",
    "      keras.metrics.FalseNegatives(name='fn'), \n",
    "      keras.metrics.BinaryAccuracy(name='accuracy'),\n",
    "      keras.metrics.Precision(name='precision'),\n",
    "      keras.metrics.Recall(name='recall'),\n",
    "      keras.metrics.AUC(name='auc'),\n",
    "]\n",
    "\n",
    "model.compile(optimizer='adam', loss='categorical_crossentropy', metrics = METRICS)"
   ]
  },
  {
   "cell_type": "code",
   "execution_count": 17,
   "metadata": {},
   "outputs": [
    {
     "name": "stdout",
     "output_type": "stream",
     "text": [
      "Epoch 1/10\n",
      "594/594 [==============================] - 1549s 3s/step - loss: 0.2358 - tp: 887.9059 - fp: 7233.7462 - tn: 317169.8739 - fn: 13230.9849 - accuracy: 0.9186 - precision: 0.1046 - recall: 0.0844 - auc: 0.6890 - val_loss: 0.1428 - val_tp: 0.0000e+00 - val_fp: 0.0000e+00 - val_tn: 201564.0000 - val_fn: 9022.0000 - val_accuracy: 0.9572 - val_precision: 0.0000e+00 - val_recall: 0.0000e+00 - val_auc: 0.8300\n",
      "Epoch 2/10\n",
      "594/594 [==============================] - 1569s 3s/step - loss: 0.1478 - tp: 218.2639 - fp: 784.8185 - tn: 323763.3261 - fn: 13756.1025 - accuracy: 0.9575 - precision: 0.3033 - recall: 0.0174 - auc: 0.7943 - val_loss: 0.1416 - val_tp: 0.0000e+00 - val_fp: 0.0000e+00 - val_tn: 201564.0000 - val_fn: 9022.0000 - val_accuracy: 0.9572 - val_precision: 0.0000e+00 - val_recall: 0.0000e+00 - val_auc: 0.8302\n",
      "Epoch 3/10\n",
      "594/594 [==============================] - 1578s 3s/step - loss: 0.1434 - tp: 76.4739 - fp: 145.4504 - tn: 324397.9244 - fn: 13902.6622 - accuracy: 0.9588 - precision: 0.3451 - recall: 0.0087 - auc: 0.8011 - val_loss: 0.1416 - val_tp: 0.0000e+00 - val_fp: 0.0000e+00 - val_tn: 201564.0000 - val_fn: 9022.0000 - val_accuracy: 0.9572 - val_precision: 0.0000e+00 - val_recall: 0.0000e+00 - val_auc: 0.8305\n",
      "Epoch 4/10\n",
      "594/594 [==============================] - 1579s 3s/step - loss: 0.1444 - tp: 1.2437 - fp: 3.7479 - tn: 324377.2420 - fn: 14140.2773 - accuracy: 0.9579 - precision: 0.1685 - recall: 6.8974e-05 - auc: 0.8079 - val_loss: 0.1415 - val_tp: 0.0000e+00 - val_fp: 0.0000e+00 - val_tn: 201564.0000 - val_fn: 9022.0000 - val_accuracy: 0.9572 - val_precision: 0.0000e+00 - val_recall: 0.0000e+00 - val_auc: 0.8308\n",
      "Epoch 5/10\n",
      "594/594 [==============================] - 1575s 3s/step - loss: 0.1421 - tp: 0.8420 - fp: 3.5277 - tn: 324397.9882 - fn: 14120.1529 - accuracy: 0.9582 - precision: 0.0728 - recall: 3.5432e-05 - auc: 0.8141 - val_loss: 0.1408 - val_tp: 0.0000e+00 - val_fp: 0.0000e+00 - val_tn: 201564.0000 - val_fn: 9022.0000 - val_accuracy: 0.9572 - val_precision: 0.0000e+00 - val_recall: 0.0000e+00 - val_auc: 0.8332\n",
      "Epoch 6/10\n",
      "594/594 [==============================] - 1277s 2s/step - loss: 0.1416 - tp: 0.0000e+00 - fp: 0.0000e+00 - tn: 324417.4521 - fn: 14105.0588 - accuracy: 0.9583 - precision: 0.0000e+00 - recall: 0.0000e+00 - auc: 0.8158 - val_loss: 0.1408 - val_tp: 0.0000e+00 - val_fp: 0.0000e+00 - val_tn: 201564.0000 - val_fn: 9022.0000 - val_accuracy: 0.9572 - val_precision: 0.0000e+00 - val_recall: 0.0000e+00 - val_auc: 0.8332\n",
      "Epoch 7/10\n",
      "594/594 [==============================] - 702s 1s/step - loss: 0.1389 - tp: 0.4857 - fp: 0.3429 - tn: 324518.8286 - fn: 14002.8538 - accuracy: 0.9588 - precision: 0.3143 - recall: 2.3717e-05 - auc: 0.8203 - val_loss: 0.1409 - val_tp: 0.0000e+00 - val_fp: 0.0000e+00 - val_tn: 201564.0000 - val_fn: 9022.0000 - val_accuracy: 0.9572 - val_precision: 0.0000e+00 - val_recall: 0.0000e+00 - val_auc: 0.8322\n",
      "Epoch 8/10\n",
      "594/594 [==============================] - 697s 1s/step - loss: 0.1397 - tp: 6.5176 - fp: 2.2218 - tn: 324423.2571 - fn: 14090.5143 - accuracy: 0.9584 - precision: 0.8221 - recall: 6.1848e-04 - auc: 0.8224 - val_loss: 0.1411 - val_tp: 0.0000e+00 - val_fp: 0.0000e+00 - val_tn: 201564.0000 - val_fn: 9022.0000 - val_accuracy: 0.9572 - val_precision: 0.0000e+00 - val_recall: 0.0000e+00 - val_auc: 0.8312\n",
      "Epoch 9/10\n",
      "594/594 [==============================] - 1016s 2s/step - loss: 0.1396 - tp: 11.5429 - fp: 4.5882 - tn: 324498.1193 - fn: 14008.2605 - accuracy: 0.9586 - precision: 0.7021 - recall: 8.6777e-04 - auc: 0.8192 - val_loss: 0.1408 - val_tp: 11.0000 - val_fp: 6.0000 - val_tn: 201558.0000 - val_fn: 9011.0000 - val_accuracy: 0.9572 - val_precision: 0.6471 - val_recall: 0.0012 - val_auc: 0.8335\n",
      "Epoch 10/10\n",
      "594/594 [==============================] - 1593s 3s/step - loss: 0.1413 - tp: 35.4639 - fp: 17.9748 - tn: 324373.2571 - fn: 14095.8151 - accuracy: 0.9582 - precision: 0.6472 - recall: 0.0023 - auc: 0.8176 - val_loss: 0.1413 - val_tp: 14.0000 - val_fp: 14.0000 - val_tn: 201550.0000 - val_fn: 9008.0000 - val_accuracy: 0.9572 - val_precision: 0.5000 - val_recall: 0.0016 - val_auc: 0.8325\n"
     ]
    }
   ],
   "source": [
    "history = model.fit(xtrain,y_train,\n",
    "                        epochs = 10,\n",
    "                        verbose = 1,\n",
    "                        validation_data=(xtest, y_test),\n",
    "                        batch_size=16)"
   ]
  },
  {
   "cell_type": "code",
   "execution_count": 22,
   "metadata": {},
   "outputs": [
    {
     "data": {
      "image/png": "[encoded data removed]",
      "text/plain": [
       "<Figure size 432x288 with 1 Axes>"
      ]
     },
     "metadata": {
      "needs_background": "light"
     },
     "output_type": "display_data"
    },
    {
     "data": {
      "image/png": "[encoded data removed]",
      "text/plain": [
       "<Figure size 432x288 with 1 Axes>"
      ]
     },
     "metadata": {
      "needs_background": "light"
     },
     "output_type": "display_data"
    }
   ],
   "source": [
    "import matplotlib.pyplot as plt\n",
    "ac = history.history['accuracy']\n",
    "val_acc = history.history['val_accuracy']\n",
    "loss = history.history['loss']\n",
    "val_loss = history.history['val_loss']\n",
    "epochs = range(1, len(ac) + 1)\n",
    "plt.plot(epochs, ac, 'bo', label='Training acc')\n",
    "plt.plot(epochs, val_acc, 'b', label='Validation acc')\n",
    "plt.title('Training and validation accuracy')\n",
    "plt.legend()\n",
    "plt.figure()\n",
    "plt.plot(epochs, loss, 'bo', label='Training loss')\n",
    "plt.plot(epochs, val_loss, 'b', label='Validation loss')\n",
    "plt.title('Training and validation loss')\n",
    "plt.legend()\n",
    "plt.show()"
   ]
  },
  {
   "cell_type": "code",
   "execution_count": 25,
   "metadata": {},
   "outputs": [
    {
     "name": "stdout",
     "output_type": "stream",
     "text": [
      "Original tags --> ['violence']\n",
      "Predicted tags --> ['comedy' 'cult' 'flashback' 'murder' 'psychedelic' 'revenge' 'romantic'\n",
      " 'violence']\n"
     ]
    }
   ],
   "source": [
    "def predict_sample():\n",
    "    t = train.sample(1)\n",
    "    encoded_docs = vect.texts_to_sequences(t['clean_plot_synopsis'])\n",
    "    padded_docs = pad_sequences(encoded_docs, maxlen=1200, padding='post')\n",
    "    pred = model.predict(padded_docs).tolist()\n",
    "    for i in range(len(pred[0])):\n",
    "        if(pred[0][i] < 0.1):\n",
    "            pred[0][i] = 0\n",
    "        else:\n",
    "            pred[0][i] = 1\n",
    "    \n",
    "    print(\"Original tags -->\", t['tags'].values)\n",
    "    print(\"Predicted tags -->\", vectorizer.inverse_transform(pred[0])[0])\n",
    "\n",
    "predict_sample()"
   ]
  },
  {
   "cell_type": "code",
   "execution_count": null,
   "metadata": {},
   "outputs": [],
   "source": [
    "\n"
   ]
  }
 ],
 "metadata": {
  "kernelspec": {
   "display_name": "Python 3",
   "language": "python",
   "name": "python3"
  },
  "language_info": {
   "codemirror_mode": {
    "name": "ipython",
    "version": 3
   },
   "file_extension": ".py",
   "mimetype": "text/x-python",
   "name": "python",
   "nbconvert_exporter": "python",
   "pygments_lexer": "ipython3",
   "version": "3.8.8"
  }
 },
 "nbformat": 4,
 "nbformat_minor": 4
}
